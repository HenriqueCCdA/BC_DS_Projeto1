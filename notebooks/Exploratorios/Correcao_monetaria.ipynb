{
  "nbformat": 4,
  "nbformat_minor": 0,
  "metadata": {
    "colab": {
      "name": "Correcao_monetaria.ipynb",
      "provenance": [],
      "authorship_tag": "ABX9TyO9njJ05bLJvUQ9Sndn5Sa6",
      "include_colab_link": true
    },
    "kernelspec": {
      "name": "python3",
      "display_name": "Python 3"
    },
    "language_info": {
      "name": "python"
    }
  },
  "cells": [
    {
      "cell_type": "markdown",
      "metadata": {
        "id": "view-in-github",
        "colab_type": "text"
      },
      "source": [
        "<a href=\"https://colab.research.google.com/github/HenriqueCCdA/BC_DS_Projeto1/blob/main/notebooks/Exploratorios/Correcao_monetaria.ipynb\" target=\"_parent\"><img src=\"https://colab.research.google.com/assets/colab-badge.svg\" alt=\"Open In Colab\"/></a>"
      ]
    },
    {
      "cell_type": "markdown",
      "metadata": {
        "id": "7ttI3sPvIr0H"
      },
      "source": [
        "\n",
        "\n",
        "---\n",
        "\n",
        "\n",
        "#Importação das bibliotecas utilizadas\n",
        "\n",
        "\n",
        "\n",
        "# 1.   Pandas\n",
        "\n",
        "\n",
        "---\n",
        "\n",
        "\n",
        "\n",
        "---"
      ]
    },
    {
      "cell_type": "code",
      "metadata": {
        "id": "cB4bkcCBETil"
      },
      "source": [
        "import pandas as pd"
      ],
      "execution_count": null,
      "outputs": []
    },
    {
      "cell_type": "markdown",
      "metadata": {
        "id": "Osm95pp7IuOo"
      },
      "source": [
        "\n",
        "\n",
        "---\n",
        "\n",
        "\n",
        "\n",
        "---\n",
        "\n"
      ]
    },
    {
      "cell_type": "markdown",
      "metadata": {
        "id": "RRxYsF0WI68O"
      },
      "source": [
        "\n",
        "\n",
        "---\n",
        "\n",
        "\n",
        "\n",
        "---\n",
        "\n",
        "\n",
        "# Correção monetaria usando o IPCA e o INPC\n",
        "\n",
        "**IPCA** : Índice Nacional de Preços ao Consumidor **Amplo**\n",
        "\n",
        "**INPC** : Índice Nacional de Preços ao Consumidor\n",
        "\n",
        "A diferença entre eles está no uso do termo “amplo”.\n",
        "\n",
        "O IPCA engloba uma parcela maior da população. Ele aponta a variação do custo de vida médio de famílias com renda mensal de 1 e 40 salários mínimos.\n",
        "\n",
        "O INPC verifica a variação do custo de vida médio apenas de famílias com renda mensal de 1 a 5 salários mínimos. Esses grupos são mais sensíveis às variações de preços, pois tendem a gastar todo o seu rendimento em itens básicos, como alimentação, medicamentos, transporte etc.\n",
        "\n",
        "Fonte do IBGE explicado a diferença do IPCA e INPC\n",
        "\n",
        "https://bit.ly/3viFjCX\n",
        "\n",
        "\n",
        "---\n",
        "\n",
        "\n",
        "\n",
        "---\n",
        "\n"
      ]
    },
    {
      "cell_type": "markdown",
      "metadata": {
        "id": "RdwW2dzHJrrX"
      },
      "source": [
        "## Lendo a tabela do IPCA"
      ]
    },
    {
      "cell_type": "code",
      "metadata": {
        "id": "TZaij7SqEZ5g"
      },
      "source": [
        "uri = \"https://raw.githubusercontent.com/HenriqueCCdA/BC_DS_Projeto1/main/Dados/IBGE/ipca.csv\"\n",
        "ipca = pd.read_csv(uri).set_index(\"ANO/MES\")"
      ],
      "execution_count": null,
      "outputs": []
    },
    {
      "cell_type": "markdown",
      "metadata": {
        "id": "XIP12YimJx1T"
      },
      "source": [
        "Lendo a tabela do INPC"
      ]
    },
    {
      "cell_type": "code",
      "metadata": {
        "id": "3T8bPoEaGHC8"
      },
      "source": [
        "uri = \"https://raw.githubusercontent.com/HenriqueCCdA/BC_DS_Projeto1/main/Dados/IBGE/inpc.csv\"\n",
        "inpc = pd.read_csv(uri).set_index(\"ANO/MES\")"
      ],
      "execution_count": null,
      "outputs": []
    },
    {
      "cell_type": "code",
      "metadata": {
        "colab": {
          "base_uri": "https://localhost:8080/",
          "height": 235
        },
        "id": "W80PmRI-E52U",
        "outputId": "887f4ec2-0a1c-40e5-ad37-a5ee8daa44d2"
      },
      "source": [
        "ipca.head()"
      ],
      "execution_count": null,
      "outputs": [
        {
          "output_type": "execute_result",
          "data": {
            "text/html": [
              "<div>\n",
              "<style scoped>\n",
              "    .dataframe tbody tr th:only-of-type {\n",
              "        vertical-align: middle;\n",
              "    }\n",
              "\n",
              "    .dataframe tbody tr th {\n",
              "        vertical-align: top;\n",
              "    }\n",
              "\n",
              "    .dataframe thead th {\n",
              "        text-align: right;\n",
              "    }\n",
              "</style>\n",
              "<table border=\"1\" class=\"dataframe\">\n",
              "  <thead>\n",
              "    <tr style=\"text-align: right;\">\n",
              "      <th></th>\n",
              "      <th>NÚMERO ÍNDICE</th>\n",
              "    </tr>\n",
              "    <tr>\n",
              "      <th>ANO/MES</th>\n",
              "      <th></th>\n",
              "    </tr>\n",
              "  </thead>\n",
              "  <tbody>\n",
              "    <tr>\n",
              "      <th>1994/JAN</th>\n",
              "      <td>141.31</td>\n",
              "    </tr>\n",
              "    <tr>\n",
              "      <th>1994/FEV</th>\n",
              "      <td>198.22</td>\n",
              "    </tr>\n",
              "    <tr>\n",
              "      <th>1994/MAR</th>\n",
              "      <td>282.96</td>\n",
              "    </tr>\n",
              "    <tr>\n",
              "      <th>1994/ABR</th>\n",
              "      <td>403.73</td>\n",
              "    </tr>\n",
              "    <tr>\n",
              "      <th>1994/MAI</th>\n",
              "      <td>581.49</td>\n",
              "    </tr>\n",
              "  </tbody>\n",
              "</table>\n",
              "</div>"
            ],
            "text/plain": [
              "          NÚMERO ÍNDICE\n",
              "ANO/MES                \n",
              "1994/JAN         141.31\n",
              "1994/FEV         198.22\n",
              "1994/MAR         282.96\n",
              "1994/ABR         403.73\n",
              "1994/MAI         581.49"
            ]
          },
          "metadata": {
            "tags": []
          },
          "execution_count": 29
        }
      ]
    },
    {
      "cell_type": "code",
      "metadata": {
        "colab": {
          "base_uri": "https://localhost:8080/",
          "height": 235
        },
        "id": "DlakEbDLGTr0",
        "outputId": "a117267c-c47d-434a-b7f1-b5228d30cfa1"
      },
      "source": [
        "inpc.head()"
      ],
      "execution_count": null,
      "outputs": [
        {
          "output_type": "execute_result",
          "data": {
            "text/html": [
              "<div>\n",
              "<style scoped>\n",
              "    .dataframe tbody tr th:only-of-type {\n",
              "        vertical-align: middle;\n",
              "    }\n",
              "\n",
              "    .dataframe tbody tr th {\n",
              "        vertical-align: top;\n",
              "    }\n",
              "\n",
              "    .dataframe thead th {\n",
              "        text-align: right;\n",
              "    }\n",
              "</style>\n",
              "<table border=\"1\" class=\"dataframe\">\n",
              "  <thead>\n",
              "    <tr style=\"text-align: right;\">\n",
              "      <th></th>\n",
              "      <th>NÚMERO ÍNDICE</th>\n",
              "    </tr>\n",
              "    <tr>\n",
              "      <th>ANO/MES</th>\n",
              "      <th></th>\n",
              "    </tr>\n",
              "  </thead>\n",
              "  <tbody>\n",
              "    <tr>\n",
              "      <th>1994/JAN</th>\n",
              "      <td>141.32</td>\n",
              "    </tr>\n",
              "    <tr>\n",
              "      <th>1994/FEV</th>\n",
              "      <td>198.65</td>\n",
              "    </tr>\n",
              "    <tr>\n",
              "      <th>1994/MAR</th>\n",
              "      <td>284.23</td>\n",
              "    </tr>\n",
              "    <tr>\n",
              "      <th>1994/ABR</th>\n",
              "      <td>406.05</td>\n",
              "    </tr>\n",
              "    <tr>\n",
              "      <th>1994/MAI</th>\n",
              "      <td>579.56</td>\n",
              "    </tr>\n",
              "  </tbody>\n",
              "</table>\n",
              "</div>"
            ],
            "text/plain": [
              "          NÚMERO ÍNDICE\n",
              "ANO/MES                \n",
              "1994/JAN         141.32\n",
              "1994/FEV         198.65\n",
              "1994/MAR         284.23\n",
              "1994/ABR         406.05\n",
              "1994/MAI         579.56"
            ]
          },
          "metadata": {
            "tags": []
          },
          "execution_count": 30
        }
      ]
    },
    {
      "cell_type": "markdown",
      "metadata": {
        "id": "DrHe2PJYJ1fb"
      },
      "source": [
        "\n",
        "\n",
        "---\n",
        "\n",
        "\n",
        "\n",
        "---\n",
        "\n"
      ]
    },
    {
      "cell_type": "markdown",
      "metadata": {
        "id": "kWLZGLzgKAPb"
      },
      "source": [
        "\n",
        "\n",
        "---\n",
        "\n",
        "\n",
        "## Cáculo da correção\n",
        "\n",
        "Exemplo: **100** Reais em *2008/JAN* equivale **negrito** a quanto em **2020/DEZ** ?\n",
        "\n",
        "Procedimento do calculo\n",
        "\n",
        "1.   Ir na tabela obter o valor númerico do **inidice para 2008/JAN** (IPCA = 2746.37) \n",
        "2.   Ir na tabela obter o valor númerico do **inidice para 2020/DEZ** (IPCA = 5331.42)\n",
        "3. Calular o fator de correção que é dado pela **razão** entre o inidice mais recente sobre o indice mais antigo.\n",
        "4. **Mutiplicar** pelo valor que se quer corrigir. \n",
        "\n",
        "$ valor_{novo} = valor_{antigo} \\times \\frac{IPCA_{novo}}{IPCA_{antigo}}$\n",
        "\n",
        "\n",
        "---\n",
        "\n",
        "\n",
        "\n",
        "---\n",
        "\n",
        "\n"
      ]
    },
    {
      "cell_type": "code",
      "metadata": {
        "colab": {
          "base_uri": "https://localhost:8080/"
        },
        "id": "PCGpNs_OE8Is",
        "outputId": "f4515f67-c8e2-4416-9ac1-773f403bae40"
      },
      "source": [
        "valor_passado = 100.0\n",
        "\n",
        "i_passado = ipca.loc[\"2008/JAN\"][0]\n",
        "i_atual = ipca.loc[\"2020/DEZ\"][0]\n",
        "\n",
        "valor_novo = valor_passado * (i_atual/i_passado)\n",
        "print(f\"Valor corrigido: {valor_novo}\")"
      ],
      "execution_count": null,
      "outputs": [
        {
          "output_type": "stream",
          "text": [
            "Valor corrigido: 202.4705338319309\n"
          ],
          "name": "stdout"
        }
      ]
    },
    {
      "cell_type": "markdown",
      "metadata": {
        "id": "zQhWiWycUNTe"
      },
      "source": [
        "## Extraindo o calculo para uma função."
      ]
    },
    {
      "cell_type": "code",
      "metadata": {
        "id": "NyRdP_m8FP-b"
      },
      "source": [
        "def correcao_monetaria(valor_passado, ipcaOuinpc, data_passada, data_correcao):\n",
        "  '''\n",
        "  -------------------------------------------------------------------------\n",
        "  Name: correcao monetaria\n",
        "  -------------------------------------------------------------------------\n",
        "  @param valor_passado: valor na data passa\n",
        "  @param ipcaOuinpc   : tabela com os indices IPCA ou INPC\n",
        "  @param data_passada : data passada  ano/mes\n",
        "  @param data_correcao: data correcao ano/mes\n",
        "  '''\n",
        "\n",
        "  i_passado = ipcaOuinpc.loc[data_passada][0]\n",
        "  i_atual = ipcaOuinpc.loc[data_correcao][0]\n",
        "\n",
        "  return  round(valor_passado * (i_atual/i_passado), 2)"
      ],
      "execution_count": null,
      "outputs": []
    },
    {
      "cell_type": "markdown",
      "metadata": {
        "id": "Hs5FEqA2IqMk"
      },
      "source": [
        "## Comparando IPCA com INPC"
      ]
    },
    {
      "cell_type": "code",
      "metadata": {
        "colab": {
          "base_uri": "https://localhost:8080/"
        },
        "id": "eFVm44Y5IRfE",
        "outputId": "be50e78e-1b6d-4746-8722-03491291aac7"
      },
      "source": [
        "valor_pelo_ipca = correcao_monetaria(100, ipca, \"2008/JAN\", \"2020/DEZ\")\n",
        "valor_pelo_inpc = correcao_monetaria(100, inpc, \"2008/JAN\", \"2020/DEZ\")\n",
        "\n",
        "print(f\"Valor corrigido pelo ICPA: {valor_pelo_ipca}\")\n",
        "print(f\"Valor corrigido pelo INPC: {valor_pelo_inpc}\")"
      ],
      "execution_count": null,
      "outputs": [
        {
          "output_type": "stream",
          "text": [
            "Valor corrigido pelo ICPA: 202.47\n",
            "Valor corrigido pelo INPC: 204.27\n"
          ],
          "name": "stdout"
        }
      ]
    }
  ]
}