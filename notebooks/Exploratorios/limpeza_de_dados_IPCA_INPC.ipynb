{
  "nbformat": 4,
  "nbformat_minor": 0,
  "metadata": {
    "colab": {
      "name": "limpeza_de_dados_IPCA/INPC.ipynb",
      "provenance": [],
      "toc_visible": true,
      "authorship_tag": "ABX9TyO3sdjxMCH17rpuJGdou0LK",
      "include_colab_link": true
    },
    "kernelspec": {
      "name": "python3",
      "display_name": "Python 3"
    },
    "language_info": {
      "name": "python"
    }
  },
  "cells": [
    {
      "cell_type": "markdown",
      "metadata": {
        "id": "view-in-github",
        "colab_type": "text"
      },
      "source": [
        "<a href=\"https://colab.research.google.com/github/HenriqueCCdA/BC_DS_Projeto1/blob/main/notebooks/Exploratorios/limpeza_de_dados_IPCA_INPC.ipynb\" target=\"_parent\"><img src=\"https://colab.research.google.com/assets/colab-badge.svg\" alt=\"Open In Colab\"/></a>"
      ]
    },
    {
      "cell_type": "markdown",
      "metadata": {
        "id": "f41C9EoHTE59"
      },
      "source": [
        "\n",
        "\n",
        "---\n",
        "\n",
        "\n",
        "#Importação das bibliotecas utilizadas\n",
        "\n",
        "\n",
        "\n",
        "# 1.   Pandas\n",
        "\n",
        "\n",
        "---\n",
        "\n",
        "\n",
        "\n",
        "---\n",
        "\n",
        "\n",
        "\n"
      ]
    },
    {
      "cell_type": "code",
      "metadata": {
        "id": "i57Un1IRNmhS"
      },
      "source": [
        "import pandas as pd"
      ],
      "execution_count": 1,
      "outputs": []
    },
    {
      "cell_type": "markdown",
      "metadata": {
        "id": "cgRiHXrWTWBs"
      },
      "source": [
        "---\n",
        "\n",
        "\n",
        "---\n",
        "\n",
        "\n",
        "# Leitura dos dados semitratados do IPCA.\n",
        "\n",
        " Os **dados brutos** foram tirados de:\n",
        "\n",
        "https://www.ibge.gov.br/estatisticas/economicas/precos-e-custos/9256-indice-nacional-de-precos-ao-consumidor-amplo.html?=&t=o-que-e\n",
        "\n",
        "A planilha de excel original **\"ipca_202104SerieHist\"** foi previamente trada através da remoção de linhas e colunas via excel. Foram feitas menos modifições possiveis para não termos o risco de corromper os dados. O arquivo que vamos trabalhar é já modificado **\"ipca_202104SerieHist_mod.xls\"**.\n",
        "\n",
        "\n",
        "---\n",
        "\n",
        "\n",
        "\n",
        "---\n",
        "\n"
      ]
    },
    {
      "cell_type": "code",
      "metadata": {
        "colab": {
          "base_uri": "https://localhost:8080/",
          "height": 669
        },
        "id": "Xeh3QCNuNw1Y",
        "outputId": "b3669411-ddc6-4cba-ba66-88ca99281336"
      },
      "source": [
        "dados_semitratados_ipca = pd.read_excel(\"ipca_202104SerieHist_mod.xls\") \n",
        "dados_semitratados_ipca.head(20)"
      ],
      "execution_count": 8,
      "outputs": [
        {
          "output_type": "execute_result",
          "data": {
            "text/html": [
              "<div>\n",
              "<style scoped>\n",
              "    .dataframe tbody tr th:only-of-type {\n",
              "        vertical-align: middle;\n",
              "    }\n",
              "\n",
              "    .dataframe tbody tr th {\n",
              "        vertical-align: top;\n",
              "    }\n",
              "\n",
              "    .dataframe thead th {\n",
              "        text-align: right;\n",
              "    }\n",
              "</style>\n",
              "<table border=\"1\" class=\"dataframe\">\n",
              "  <thead>\n",
              "    <tr style=\"text-align: right;\">\n",
              "      <th></th>\n",
              "      <th>ANO</th>\n",
              "      <th>MÊS</th>\n",
              "      <th>NÚMERO ÍNDICE</th>\n",
              "    </tr>\n",
              "  </thead>\n",
              "  <tbody>\n",
              "    <tr>\n",
              "      <th>0</th>\n",
              "      <td>NaN</td>\n",
              "      <td>NaN</td>\n",
              "      <td>NaN</td>\n",
              "    </tr>\n",
              "    <tr>\n",
              "      <th>1</th>\n",
              "      <td>1994.0</td>\n",
              "      <td>JAN</td>\n",
              "      <td>141.31</td>\n",
              "    </tr>\n",
              "    <tr>\n",
              "      <th>2</th>\n",
              "      <td>NaN</td>\n",
              "      <td>FEV</td>\n",
              "      <td>198.22</td>\n",
              "    </tr>\n",
              "    <tr>\n",
              "      <th>3</th>\n",
              "      <td>NaN</td>\n",
              "      <td>MAR</td>\n",
              "      <td>282.96</td>\n",
              "    </tr>\n",
              "    <tr>\n",
              "      <th>4</th>\n",
              "      <td>NaN</td>\n",
              "      <td>ABR</td>\n",
              "      <td>403.73</td>\n",
              "    </tr>\n",
              "    <tr>\n",
              "      <th>5</th>\n",
              "      <td>NaN</td>\n",
              "      <td>MAI</td>\n",
              "      <td>581.49</td>\n",
              "    </tr>\n",
              "    <tr>\n",
              "      <th>6</th>\n",
              "      <td>NaN</td>\n",
              "      <td>JUN</td>\n",
              "      <td>857.29</td>\n",
              "    </tr>\n",
              "    <tr>\n",
              "      <th>7</th>\n",
              "      <td>NaN</td>\n",
              "      <td>JUL</td>\n",
              "      <td>915.93</td>\n",
              "    </tr>\n",
              "    <tr>\n",
              "      <th>8</th>\n",
              "      <td>NaN</td>\n",
              "      <td>AGO</td>\n",
              "      <td>932.97</td>\n",
              "    </tr>\n",
              "    <tr>\n",
              "      <th>9</th>\n",
              "      <td>NaN</td>\n",
              "      <td>SET</td>\n",
              "      <td>947.24</td>\n",
              "    </tr>\n",
              "    <tr>\n",
              "      <th>10</th>\n",
              "      <td>NaN</td>\n",
              "      <td>OUT</td>\n",
              "      <td>972.06</td>\n",
              "    </tr>\n",
              "    <tr>\n",
              "      <th>11</th>\n",
              "      <td>NaN</td>\n",
              "      <td>NOV</td>\n",
              "      <td>999.37</td>\n",
              "    </tr>\n",
              "    <tr>\n",
              "      <th>12</th>\n",
              "      <td>NaN</td>\n",
              "      <td>DEZ</td>\n",
              "      <td>1016.46</td>\n",
              "    </tr>\n",
              "    <tr>\n",
              "      <th>13</th>\n",
              "      <td>NaN</td>\n",
              "      <td>NaN</td>\n",
              "      <td>NaN</td>\n",
              "    </tr>\n",
              "    <tr>\n",
              "      <th>14</th>\n",
              "      <td>1995.0</td>\n",
              "      <td>JAN</td>\n",
              "      <td>1033.74</td>\n",
              "    </tr>\n",
              "    <tr>\n",
              "      <th>15</th>\n",
              "      <td>NaN</td>\n",
              "      <td>FEV</td>\n",
              "      <td>1044.28</td>\n",
              "    </tr>\n",
              "    <tr>\n",
              "      <th>16</th>\n",
              "      <td>NaN</td>\n",
              "      <td>MAR</td>\n",
              "      <td>1060.47</td>\n",
              "    </tr>\n",
              "    <tr>\n",
              "      <th>17</th>\n",
              "      <td>NaN</td>\n",
              "      <td>ABR</td>\n",
              "      <td>1086.24</td>\n",
              "    </tr>\n",
              "    <tr>\n",
              "      <th>18</th>\n",
              "      <td>NaN</td>\n",
              "      <td>MAI</td>\n",
              "      <td>1115.24</td>\n",
              "    </tr>\n",
              "    <tr>\n",
              "      <th>19</th>\n",
              "      <td>NaN</td>\n",
              "      <td>JUN</td>\n",
              "      <td>1140.44</td>\n",
              "    </tr>\n",
              "  </tbody>\n",
              "</table>\n",
              "</div>"
            ],
            "text/plain": [
              "       ANO  MÊS  NÚMERO ÍNDICE\n",
              "0      NaN  NaN            NaN\n",
              "1   1994.0  JAN         141.31\n",
              "2      NaN  FEV         198.22\n",
              "3      NaN  MAR         282.96\n",
              "4      NaN  ABR         403.73\n",
              "5      NaN  MAI         581.49\n",
              "6      NaN  JUN         857.29\n",
              "7      NaN  JUL         915.93\n",
              "8      NaN  AGO         932.97\n",
              "9      NaN  SET         947.24\n",
              "10     NaN  OUT         972.06\n",
              "11     NaN  NOV         999.37\n",
              "12     NaN  DEZ        1016.46\n",
              "13     NaN  NaN            NaN\n",
              "14  1995.0  JAN        1033.74\n",
              "15     NaN  FEV        1044.28\n",
              "16     NaN  MAR        1060.47\n",
              "17     NaN  ABR        1086.24\n",
              "18     NaN  MAI        1115.24\n",
              "19     NaN  JUN        1140.44"
            ]
          },
          "metadata": {
            "tags": []
          },
          "execution_count": 8
        }
      ]
    },
    {
      "cell_type": "markdown",
      "metadata": {
        "id": "ydmTAu4MS0Fn"
      },
      "source": [
        "## Tirando todas as **linhas** que todos os elementos são **nan**.**negrito**"
      ]
    },
    {
      "cell_type": "code",
      "metadata": {
        "colab": {
          "base_uri": "https://localhost:8080/",
          "height": 669
        },
        "id": "A0dPQV-0OjnL",
        "outputId": "bd17e298-3b07-4450-8f3a-480061947e9d"
      },
      "source": [
        "dados_semitratados_ipca.dropna(how='all', inplace=True)\n",
        "dados_semitratados_ipca.head(20)"
      ],
      "execution_count": 9,
      "outputs": [
        {
          "output_type": "execute_result",
          "data": {
            "text/html": [
              "<div>\n",
              "<style scoped>\n",
              "    .dataframe tbody tr th:only-of-type {\n",
              "        vertical-align: middle;\n",
              "    }\n",
              "\n",
              "    .dataframe tbody tr th {\n",
              "        vertical-align: top;\n",
              "    }\n",
              "\n",
              "    .dataframe thead th {\n",
              "        text-align: right;\n",
              "    }\n",
              "</style>\n",
              "<table border=\"1\" class=\"dataframe\">\n",
              "  <thead>\n",
              "    <tr style=\"text-align: right;\">\n",
              "      <th></th>\n",
              "      <th>ANO</th>\n",
              "      <th>MÊS</th>\n",
              "      <th>NÚMERO ÍNDICE</th>\n",
              "    </tr>\n",
              "  </thead>\n",
              "  <tbody>\n",
              "    <tr>\n",
              "      <th>1</th>\n",
              "      <td>1994.0</td>\n",
              "      <td>JAN</td>\n",
              "      <td>141.31</td>\n",
              "    </tr>\n",
              "    <tr>\n",
              "      <th>2</th>\n",
              "      <td>NaN</td>\n",
              "      <td>FEV</td>\n",
              "      <td>198.22</td>\n",
              "    </tr>\n",
              "    <tr>\n",
              "      <th>3</th>\n",
              "      <td>NaN</td>\n",
              "      <td>MAR</td>\n",
              "      <td>282.96</td>\n",
              "    </tr>\n",
              "    <tr>\n",
              "      <th>4</th>\n",
              "      <td>NaN</td>\n",
              "      <td>ABR</td>\n",
              "      <td>403.73</td>\n",
              "    </tr>\n",
              "    <tr>\n",
              "      <th>5</th>\n",
              "      <td>NaN</td>\n",
              "      <td>MAI</td>\n",
              "      <td>581.49</td>\n",
              "    </tr>\n",
              "    <tr>\n",
              "      <th>6</th>\n",
              "      <td>NaN</td>\n",
              "      <td>JUN</td>\n",
              "      <td>857.29</td>\n",
              "    </tr>\n",
              "    <tr>\n",
              "      <th>7</th>\n",
              "      <td>NaN</td>\n",
              "      <td>JUL</td>\n",
              "      <td>915.93</td>\n",
              "    </tr>\n",
              "    <tr>\n",
              "      <th>8</th>\n",
              "      <td>NaN</td>\n",
              "      <td>AGO</td>\n",
              "      <td>932.97</td>\n",
              "    </tr>\n",
              "    <tr>\n",
              "      <th>9</th>\n",
              "      <td>NaN</td>\n",
              "      <td>SET</td>\n",
              "      <td>947.24</td>\n",
              "    </tr>\n",
              "    <tr>\n",
              "      <th>10</th>\n",
              "      <td>NaN</td>\n",
              "      <td>OUT</td>\n",
              "      <td>972.06</td>\n",
              "    </tr>\n",
              "    <tr>\n",
              "      <th>11</th>\n",
              "      <td>NaN</td>\n",
              "      <td>NOV</td>\n",
              "      <td>999.37</td>\n",
              "    </tr>\n",
              "    <tr>\n",
              "      <th>12</th>\n",
              "      <td>NaN</td>\n",
              "      <td>DEZ</td>\n",
              "      <td>1016.46</td>\n",
              "    </tr>\n",
              "    <tr>\n",
              "      <th>14</th>\n",
              "      <td>1995.0</td>\n",
              "      <td>JAN</td>\n",
              "      <td>1033.74</td>\n",
              "    </tr>\n",
              "    <tr>\n",
              "      <th>15</th>\n",
              "      <td>NaN</td>\n",
              "      <td>FEV</td>\n",
              "      <td>1044.28</td>\n",
              "    </tr>\n",
              "    <tr>\n",
              "      <th>16</th>\n",
              "      <td>NaN</td>\n",
              "      <td>MAR</td>\n",
              "      <td>1060.47</td>\n",
              "    </tr>\n",
              "    <tr>\n",
              "      <th>17</th>\n",
              "      <td>NaN</td>\n",
              "      <td>ABR</td>\n",
              "      <td>1086.24</td>\n",
              "    </tr>\n",
              "    <tr>\n",
              "      <th>18</th>\n",
              "      <td>NaN</td>\n",
              "      <td>MAI</td>\n",
              "      <td>1115.24</td>\n",
              "    </tr>\n",
              "    <tr>\n",
              "      <th>19</th>\n",
              "      <td>NaN</td>\n",
              "      <td>JUN</td>\n",
              "      <td>1140.44</td>\n",
              "    </tr>\n",
              "    <tr>\n",
              "      <th>20</th>\n",
              "      <td>NaN</td>\n",
              "      <td>JUL</td>\n",
              "      <td>1167.35</td>\n",
              "    </tr>\n",
              "    <tr>\n",
              "      <th>21</th>\n",
              "      <td>NaN</td>\n",
              "      <td>AGO</td>\n",
              "      <td>1178.91</td>\n",
              "    </tr>\n",
              "  </tbody>\n",
              "</table>\n",
              "</div>"
            ],
            "text/plain": [
              "       ANO  MÊS  NÚMERO ÍNDICE\n",
              "1   1994.0  JAN         141.31\n",
              "2      NaN  FEV         198.22\n",
              "3      NaN  MAR         282.96\n",
              "4      NaN  ABR         403.73\n",
              "5      NaN  MAI         581.49\n",
              "6      NaN  JUN         857.29\n",
              "7      NaN  JUL         915.93\n",
              "8      NaN  AGO         932.97\n",
              "9      NaN  SET         947.24\n",
              "10     NaN  OUT         972.06\n",
              "11     NaN  NOV         999.37\n",
              "12     NaN  DEZ        1016.46\n",
              "14  1995.0  JAN        1033.74\n",
              "15     NaN  FEV        1044.28\n",
              "16     NaN  MAR        1060.47\n",
              "17     NaN  ABR        1086.24\n",
              "18     NaN  MAI        1115.24\n",
              "19     NaN  JUN        1140.44\n",
              "20     NaN  JUL        1167.35\n",
              "21     NaN  AGO        1178.91"
            ]
          },
          "metadata": {
            "tags": []
          },
          "execution_count": 9
        }
      ]
    },
    {
      "cell_type": "markdown",
      "metadata": {
        "id": "moNrsjAHdqRm"
      },
      "source": [
        "## Preenchendo os NaN"
      ]
    },
    {
      "cell_type": "code",
      "metadata": {
        "colab": {
          "base_uri": "https://localhost:8080/",
          "height": 669
        },
        "id": "EDLpZnhJR2kx",
        "outputId": "37b4bf29-8fc8-4945-f66b-67b8580cb0b4"
      },
      "source": [
        "dados_semitratados_ipca.fillna(method='ffill', inplace=True)\n",
        "dados_semitratados_ipca.head(20)"
      ],
      "execution_count": 10,
      "outputs": [
        {
          "output_type": "execute_result",
          "data": {
            "text/html": [
              "<div>\n",
              "<style scoped>\n",
              "    .dataframe tbody tr th:only-of-type {\n",
              "        vertical-align: middle;\n",
              "    }\n",
              "\n",
              "    .dataframe tbody tr th {\n",
              "        vertical-align: top;\n",
              "    }\n",
              "\n",
              "    .dataframe thead th {\n",
              "        text-align: right;\n",
              "    }\n",
              "</style>\n",
              "<table border=\"1\" class=\"dataframe\">\n",
              "  <thead>\n",
              "    <tr style=\"text-align: right;\">\n",
              "      <th></th>\n",
              "      <th>ANO</th>\n",
              "      <th>MÊS</th>\n",
              "      <th>NÚMERO ÍNDICE</th>\n",
              "    </tr>\n",
              "  </thead>\n",
              "  <tbody>\n",
              "    <tr>\n",
              "      <th>1</th>\n",
              "      <td>1994.0</td>\n",
              "      <td>JAN</td>\n",
              "      <td>141.31</td>\n",
              "    </tr>\n",
              "    <tr>\n",
              "      <th>2</th>\n",
              "      <td>1994.0</td>\n",
              "      <td>FEV</td>\n",
              "      <td>198.22</td>\n",
              "    </tr>\n",
              "    <tr>\n",
              "      <th>3</th>\n",
              "      <td>1994.0</td>\n",
              "      <td>MAR</td>\n",
              "      <td>282.96</td>\n",
              "    </tr>\n",
              "    <tr>\n",
              "      <th>4</th>\n",
              "      <td>1994.0</td>\n",
              "      <td>ABR</td>\n",
              "      <td>403.73</td>\n",
              "    </tr>\n",
              "    <tr>\n",
              "      <th>5</th>\n",
              "      <td>1994.0</td>\n",
              "      <td>MAI</td>\n",
              "      <td>581.49</td>\n",
              "    </tr>\n",
              "    <tr>\n",
              "      <th>6</th>\n",
              "      <td>1994.0</td>\n",
              "      <td>JUN</td>\n",
              "      <td>857.29</td>\n",
              "    </tr>\n",
              "    <tr>\n",
              "      <th>7</th>\n",
              "      <td>1994.0</td>\n",
              "      <td>JUL</td>\n",
              "      <td>915.93</td>\n",
              "    </tr>\n",
              "    <tr>\n",
              "      <th>8</th>\n",
              "      <td>1994.0</td>\n",
              "      <td>AGO</td>\n",
              "      <td>932.97</td>\n",
              "    </tr>\n",
              "    <tr>\n",
              "      <th>9</th>\n",
              "      <td>1994.0</td>\n",
              "      <td>SET</td>\n",
              "      <td>947.24</td>\n",
              "    </tr>\n",
              "    <tr>\n",
              "      <th>10</th>\n",
              "      <td>1994.0</td>\n",
              "      <td>OUT</td>\n",
              "      <td>972.06</td>\n",
              "    </tr>\n",
              "    <tr>\n",
              "      <th>11</th>\n",
              "      <td>1994.0</td>\n",
              "      <td>NOV</td>\n",
              "      <td>999.37</td>\n",
              "    </tr>\n",
              "    <tr>\n",
              "      <th>12</th>\n",
              "      <td>1994.0</td>\n",
              "      <td>DEZ</td>\n",
              "      <td>1016.46</td>\n",
              "    </tr>\n",
              "    <tr>\n",
              "      <th>14</th>\n",
              "      <td>1995.0</td>\n",
              "      <td>JAN</td>\n",
              "      <td>1033.74</td>\n",
              "    </tr>\n",
              "    <tr>\n",
              "      <th>15</th>\n",
              "      <td>1995.0</td>\n",
              "      <td>FEV</td>\n",
              "      <td>1044.28</td>\n",
              "    </tr>\n",
              "    <tr>\n",
              "      <th>16</th>\n",
              "      <td>1995.0</td>\n",
              "      <td>MAR</td>\n",
              "      <td>1060.47</td>\n",
              "    </tr>\n",
              "    <tr>\n",
              "      <th>17</th>\n",
              "      <td>1995.0</td>\n",
              "      <td>ABR</td>\n",
              "      <td>1086.24</td>\n",
              "    </tr>\n",
              "    <tr>\n",
              "      <th>18</th>\n",
              "      <td>1995.0</td>\n",
              "      <td>MAI</td>\n",
              "      <td>1115.24</td>\n",
              "    </tr>\n",
              "    <tr>\n",
              "      <th>19</th>\n",
              "      <td>1995.0</td>\n",
              "      <td>JUN</td>\n",
              "      <td>1140.44</td>\n",
              "    </tr>\n",
              "    <tr>\n",
              "      <th>20</th>\n",
              "      <td>1995.0</td>\n",
              "      <td>JUL</td>\n",
              "      <td>1167.35</td>\n",
              "    </tr>\n",
              "    <tr>\n",
              "      <th>21</th>\n",
              "      <td>1995.0</td>\n",
              "      <td>AGO</td>\n",
              "      <td>1178.91</td>\n",
              "    </tr>\n",
              "  </tbody>\n",
              "</table>\n",
              "</div>"
            ],
            "text/plain": [
              "       ANO  MÊS  NÚMERO ÍNDICE\n",
              "1   1994.0  JAN         141.31\n",
              "2   1994.0  FEV         198.22\n",
              "3   1994.0  MAR         282.96\n",
              "4   1994.0  ABR         403.73\n",
              "5   1994.0  MAI         581.49\n",
              "6   1994.0  JUN         857.29\n",
              "7   1994.0  JUL         915.93\n",
              "8   1994.0  AGO         932.97\n",
              "9   1994.0  SET         947.24\n",
              "10  1994.0  OUT         972.06\n",
              "11  1994.0  NOV         999.37\n",
              "12  1994.0  DEZ        1016.46\n",
              "14  1995.0  JAN        1033.74\n",
              "15  1995.0  FEV        1044.28\n",
              "16  1995.0  MAR        1060.47\n",
              "17  1995.0  ABR        1086.24\n",
              "18  1995.0  MAI        1115.24\n",
              "19  1995.0  JUN        1140.44\n",
              "20  1995.0  JUL        1167.35\n",
              "21  1995.0  AGO        1178.91"
            ]
          },
          "metadata": {
            "tags": []
          },
          "execution_count": 10
        }
      ]
    },
    {
      "cell_type": "markdown",
      "metadata": {
        "id": "ylYTzmBEdv7D"
      },
      "source": [
        "## Trocando o tipo da coluna ano para string"
      ]
    },
    {
      "cell_type": "code",
      "metadata": {
        "colab": {
          "base_uri": "https://localhost:8080/",
          "height": 204
        },
        "id": "560ye3pBcTyR",
        "outputId": "1d29f0a6-553d-4a9c-c96f-a69f0c7e4cf8"
      },
      "source": [
        "dados_semitratados_ipca['ANO'] = dados_semitratados_ipca['ANO'].astype(\"int\")\n",
        "dados_semitratados_ipca['ANO'] = dados_semitratados_ipca['ANO'].astype(\"str\")\n",
        "dados_semitratados_ipca.head()"
      ],
      "execution_count": 11,
      "outputs": [
        {
          "output_type": "execute_result",
          "data": {
            "text/html": [
              "<div>\n",
              "<style scoped>\n",
              "    .dataframe tbody tr th:only-of-type {\n",
              "        vertical-align: middle;\n",
              "    }\n",
              "\n",
              "    .dataframe tbody tr th {\n",
              "        vertical-align: top;\n",
              "    }\n",
              "\n",
              "    .dataframe thead th {\n",
              "        text-align: right;\n",
              "    }\n",
              "</style>\n",
              "<table border=\"1\" class=\"dataframe\">\n",
              "  <thead>\n",
              "    <tr style=\"text-align: right;\">\n",
              "      <th></th>\n",
              "      <th>ANO</th>\n",
              "      <th>MÊS</th>\n",
              "      <th>NÚMERO ÍNDICE</th>\n",
              "    </tr>\n",
              "  </thead>\n",
              "  <tbody>\n",
              "    <tr>\n",
              "      <th>1</th>\n",
              "      <td>1994</td>\n",
              "      <td>JAN</td>\n",
              "      <td>141.31</td>\n",
              "    </tr>\n",
              "    <tr>\n",
              "      <th>2</th>\n",
              "      <td>1994</td>\n",
              "      <td>FEV</td>\n",
              "      <td>198.22</td>\n",
              "    </tr>\n",
              "    <tr>\n",
              "      <th>3</th>\n",
              "      <td>1994</td>\n",
              "      <td>MAR</td>\n",
              "      <td>282.96</td>\n",
              "    </tr>\n",
              "    <tr>\n",
              "      <th>4</th>\n",
              "      <td>1994</td>\n",
              "      <td>ABR</td>\n",
              "      <td>403.73</td>\n",
              "    </tr>\n",
              "    <tr>\n",
              "      <th>5</th>\n",
              "      <td>1994</td>\n",
              "      <td>MAI</td>\n",
              "      <td>581.49</td>\n",
              "    </tr>\n",
              "  </tbody>\n",
              "</table>\n",
              "</div>"
            ],
            "text/plain": [
              "    ANO  MÊS  NÚMERO ÍNDICE\n",
              "1  1994  JAN         141.31\n",
              "2  1994  FEV         198.22\n",
              "3  1994  MAR         282.96\n",
              "4  1994  ABR         403.73\n",
              "5  1994  MAI         581.49"
            ]
          },
          "metadata": {
            "tags": []
          },
          "execution_count": 11
        }
      ]
    },
    {
      "cell_type": "markdown",
      "metadata": {
        "id": "oYSOoyROfgHw"
      },
      "source": [
        "## Jutando as colunas **ANO** e **MES** em uma coluna só **ANO/MES**"
      ]
    },
    {
      "cell_type": "code",
      "metadata": {
        "id": "rpcovs6hdbOx"
      },
      "source": [
        "dados_semitratados_ipca['ANO/MES'] = dados_semitratados_ipca['ANO'] + \"/\" + dados_semitratados_ipca['MÊS']"
      ],
      "execution_count": 12,
      "outputs": []
    },
    {
      "cell_type": "markdown",
      "metadata": {
        "id": "mT5cpeMdg05L"
      },
      "source": [
        "## Retirando as colunas **\"ANO\"** e **\"MÊS\"**"
      ]
    },
    {
      "cell_type": "code",
      "metadata": {
        "id": "eoqyrxrSdd5I"
      },
      "source": [
        "dados_semitratados_ipca = dados_semitratados_ipca.drop(labels=[\"ANO\", \"MÊS\"], axis=1)"
      ],
      "execution_count": 13,
      "outputs": []
    },
    {
      "cell_type": "markdown",
      "metadata": {
        "id": "QFLFKguxg59s"
      },
      "source": [
        "## **Mudando** o index da tabela para *\"ANO/MES\"*"
      ]
    },
    {
      "cell_type": "code",
      "metadata": {
        "colab": {
          "base_uri": "https://localhost:8080/",
          "height": 235
        },
        "id": "3dvtuWUIgcRX",
        "outputId": "93f3cb98-4386-41ac-a1e6-d59fb07f1321"
      },
      "source": [
        "dados_semitratados_ipca.set_index(\"ANO/MES\", inplace=True)\n",
        "dados_semitratados_ipca.head()"
      ],
      "execution_count": 14,
      "outputs": [
        {
          "output_type": "execute_result",
          "data": {
            "text/html": [
              "<div>\n",
              "<style scoped>\n",
              "    .dataframe tbody tr th:only-of-type {\n",
              "        vertical-align: middle;\n",
              "    }\n",
              "\n",
              "    .dataframe tbody tr th {\n",
              "        vertical-align: top;\n",
              "    }\n",
              "\n",
              "    .dataframe thead th {\n",
              "        text-align: right;\n",
              "    }\n",
              "</style>\n",
              "<table border=\"1\" class=\"dataframe\">\n",
              "  <thead>\n",
              "    <tr style=\"text-align: right;\">\n",
              "      <th></th>\n",
              "      <th>NÚMERO ÍNDICE</th>\n",
              "    </tr>\n",
              "    <tr>\n",
              "      <th>ANO/MES</th>\n",
              "      <th></th>\n",
              "    </tr>\n",
              "  </thead>\n",
              "  <tbody>\n",
              "    <tr>\n",
              "      <th>1994/JAN</th>\n",
              "      <td>141.31</td>\n",
              "    </tr>\n",
              "    <tr>\n",
              "      <th>1994/FEV</th>\n",
              "      <td>198.22</td>\n",
              "    </tr>\n",
              "    <tr>\n",
              "      <th>1994/MAR</th>\n",
              "      <td>282.96</td>\n",
              "    </tr>\n",
              "    <tr>\n",
              "      <th>1994/ABR</th>\n",
              "      <td>403.73</td>\n",
              "    </tr>\n",
              "    <tr>\n",
              "      <th>1994/MAI</th>\n",
              "      <td>581.49</td>\n",
              "    </tr>\n",
              "  </tbody>\n",
              "</table>\n",
              "</div>"
            ],
            "text/plain": [
              "          NÚMERO ÍNDICE\n",
              "ANO/MES                \n",
              "1994/JAN         141.31\n",
              "1994/FEV         198.22\n",
              "1994/MAR         282.96\n",
              "1994/ABR         403.73\n",
              "1994/MAI         581.49"
            ]
          },
          "metadata": {
            "tags": []
          },
          "execution_count": 14
        }
      ]
    },
    {
      "cell_type": "code",
      "metadata": {
        "id": "VbkljpavC3vX"
      },
      "source": [
        "dados_semitratados_ipca.to_csv(\"ipca.csv\")"
      ],
      "execution_count": 15,
      "outputs": []
    },
    {
      "cell_type": "markdown",
      "metadata": {
        "id": "UEyL4z6yitHN"
      },
      "source": [
        "\n",
        "\n",
        "---\n",
        "\n",
        "\n",
        "\n",
        "---\n",
        "\n",
        "\n",
        "# Leitura dos dados semitratados do IPCA.\n",
        "\n",
        "Leitura dos dados semitratados do INPC.\n",
        "Os dados brutos foram tirados de:\n",
        "\n",
        "https://www.ibge.gov.br/estatisticas/economicas/precos-e-custos/9258-indice-nacional-de-precos-ao-consumidor.html?=&t=series-historicas\n",
        "\n",
        "\n",
        "---\n",
        "\n",
        "\n",
        "\n",
        "---\n",
        "\n",
        "\n"
      ]
    },
    {
      "cell_type": "code",
      "metadata": {
        "id": "9E7k4m-siztA"
      },
      "source": [
        "dados_semitratados_inpc = pd.read_excel(\"inpc_202104SerieHist_mod.xls\") \n",
        "dados_semitratados_inpc.dropna(how='all', inplace=True)\n",
        "dados_semitratados_inpc.fillna(method='ffill', inplace=True)\n",
        "dados_semitratados_inpc['ANO'] = dados_semitratados_inpc['ANO'].astype(\"int\")\n",
        "dados_semitratados_inpc['ANO'] = dados_semitratados_inpc['ANO'].astype(\"str\")\n",
        "dados_semitratados_inpc['ANO/MES'] = dados_semitratados_inpc['ANO'] + \"/\" + dados_semitratados_inpc['MÊS']\n",
        "dados_semitratados_inpc = dados_semitratados_inpc.drop(labels=[\"ANO\", \"MÊS\"], axis=1)\n",
        "dados_semitratados_inpc.set_index(\"ANO/MES\", inplace=True)"
      ],
      "execution_count": 16,
      "outputs": []
    },
    {
      "cell_type": "code",
      "metadata": {
        "colab": {
          "base_uri": "https://localhost:8080/",
          "height": 235
        },
        "id": "cb0VQWJ3jI8d",
        "outputId": "e529b90a-d470-4fdd-c307-8a36f70c0a7b"
      },
      "source": [
        "dados_semitratados_inpc.head()"
      ],
      "execution_count": 17,
      "outputs": [
        {
          "output_type": "execute_result",
          "data": {
            "text/html": [
              "<div>\n",
              "<style scoped>\n",
              "    .dataframe tbody tr th:only-of-type {\n",
              "        vertical-align: middle;\n",
              "    }\n",
              "\n",
              "    .dataframe tbody tr th {\n",
              "        vertical-align: top;\n",
              "    }\n",
              "\n",
              "    .dataframe thead th {\n",
              "        text-align: right;\n",
              "    }\n",
              "</style>\n",
              "<table border=\"1\" class=\"dataframe\">\n",
              "  <thead>\n",
              "    <tr style=\"text-align: right;\">\n",
              "      <th></th>\n",
              "      <th>NÚMERO ÍNDICE</th>\n",
              "    </tr>\n",
              "    <tr>\n",
              "      <th>ANO/MES</th>\n",
              "      <th></th>\n",
              "    </tr>\n",
              "  </thead>\n",
              "  <tbody>\n",
              "    <tr>\n",
              "      <th>1994/JAN</th>\n",
              "      <td>141.32</td>\n",
              "    </tr>\n",
              "    <tr>\n",
              "      <th>1994/FEV</th>\n",
              "      <td>198.65</td>\n",
              "    </tr>\n",
              "    <tr>\n",
              "      <th>1994/MAR</th>\n",
              "      <td>284.23</td>\n",
              "    </tr>\n",
              "    <tr>\n",
              "      <th>1994/ABR</th>\n",
              "      <td>406.05</td>\n",
              "    </tr>\n",
              "    <tr>\n",
              "      <th>1994/MAI</th>\n",
              "      <td>579.56</td>\n",
              "    </tr>\n",
              "  </tbody>\n",
              "</table>\n",
              "</div>"
            ],
            "text/plain": [
              "          NÚMERO ÍNDICE\n",
              "ANO/MES                \n",
              "1994/JAN         141.32\n",
              "1994/FEV         198.65\n",
              "1994/MAR         284.23\n",
              "1994/ABR         406.05\n",
              "1994/MAI         579.56"
            ]
          },
          "metadata": {
            "tags": []
          },
          "execution_count": 17
        }
      ]
    },
    {
      "cell_type": "code",
      "metadata": {
        "id": "JpjbtDJkDXR9"
      },
      "source": [
        "dados_semitratados_inpc.to_csv(\"inpc.csv\")"
      ],
      "execution_count": 18,
      "outputs": []
    },
    {
      "cell_type": "markdown",
      "metadata": {
        "id": "Ehy82AXOkK9V"
      },
      "source": [
        "\n",
        "\n",
        "---\n",
        "\n",
        "\n",
        "\n",
        "---\n",
        "\n"
      ]
    }
  ]
}